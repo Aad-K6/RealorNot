{
 "cells": [
  {
   "cell_type": "code",
   "execution_count": null,
   "id": "29b1562c",
   "metadata": {},
   "outputs": [
    {
     "name": "stdout",
     "output_type": "stream",
     "text": [
      " * Serving Flask app \"__main__\" (lazy loading)\n",
      " * Environment: production\n",
      "\u001b[31m   WARNING: This is a development server. Do not use it in a production deployment.\u001b[0m\n",
      "\u001b[2m   Use a production WSGI server instead.\u001b[0m\n",
      " * Debug mode: off\n"
     ]
    },
    {
     "name": "stderr",
     "output_type": "stream",
     "text": [
      " * Running on http://127.0.0.1:5000/ (Press CTRL+C to quit)\n",
      "127.0.0.1 - - [20/May/2023 12:51:16] \"GET / HTTP/1.1\" 200 -\n",
      "127.0.0.1 - - [20/May/2023 12:51:16] \"GET /favicon.ico HTTP/1.1\" 404 -\n",
      "127.0.0.1 - - [20/May/2023 12:51:47] \"POST /predict HTTP/1.1\" 200 -\n"
     ]
    }
   ],
   "source": [
    "import os\n",
    "import pickle\n",
    "import io\n",
    "\n",
    "import numpy as np\n",
    "from PIL import Image\n",
    "from flask import Flask, request, render_template\n",
    "\n",
    "app = Flask(__name__)\n",
    "\n",
    "#Loading Random Forest classifier model\n",
    "with open('random_forest_classifier.pkl', 'rb') as f:\n",
    "    model = pickle.load(f)\n",
    "\n",
    "#classes for binary classification (real or fake)\n",
    "classes = ['real', 'fake']\n",
    "\n",
    "#preprocessing the input image\n",
    "def preprocess_image(image):\n",
    "    # Convert to grayscale\n",
    "    image = image.convert('L')\n",
    "    # Resize the image to 32x32\n",
    "    image = image.resize((32, 32))\n",
    "    # Flatten the image data\n",
    "    image_data = np.asarray(image).flatten()\n",
    "    # Return the preprocessed image data\n",
    "    return image_data\n",
    "\n",
    "#home page\n",
    "@app.route('/')\n",
    "def home():\n",
    "    return render_template('home.html')\n",
    "\n",
    "# Define the prediction function\n",
    "@app.route('/predict', methods=['POST'])\n",
    "def predict():\n",
    "    image = request.files['image'].read() # Get the input image from the request\n",
    "    image = Image.open(io.BytesIO(image))\n",
    "    image_data = preprocess_image(image)  # Preprocess the input image\n",
    "    prediction = model.predict([image_data])[0] # Make the prediction\n",
    "    return render_template('result.html', prediction=classes[prediction])  #result page with the prediction\n",
    "\n",
    "if __name__ == '__main__':\n",
    "    app.run() \n"
   ]
  },
  {
   "cell_type": "code",
   "execution_count": null,
   "id": "008b8cad",
   "metadata": {},
   "outputs": [],
   "source": []
  }
 ],
 "metadata": {
  "kernelspec": {
   "display_name": "Python 3 (ipykernel)",
   "language": "python",
   "name": "python3"
  },
  "language_info": {
   "codemirror_mode": {
    "name": "ipython",
    "version": 3
   },
   "file_extension": ".py",
   "mimetype": "text/x-python",
   "name": "python",
   "nbconvert_exporter": "python",
   "pygments_lexer": "ipython3",
   "version": "3.9.12"
  }
 },
 "nbformat": 4,
 "nbformat_minor": 5
}
