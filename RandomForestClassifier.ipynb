{
 "cells": [
  {
   "cell_type": "markdown",
   "id": "3532a56b",
   "metadata": {},
   "source": [
    "## Random Forest Classifier"
   ]
  },
  {
   "cell_type": "markdown",
   "id": "d87ee8a2",
   "metadata": {},
   "source": [
    "* In classification, a random forest algorithm builds multiple decision trees and combines their predictions to obtain the final classification result.\n",
    "* Each tree is constructed based on a random subset of the training data and a random subset of the features in the data.\n",
    "* The final prediction is made by aggregating the predictions of all the individual trees in the forest. "
   ]
  },
  {
   "cell_type": "markdown",
   "id": "2e65cacc",
   "metadata": {},
   "source": [
    "### Import Libraries"
   ]
  },
  {
   "cell_type": "markdown",
   "id": "e58eca66",
   "metadata": {},
   "source": [
    "* <b>Flask</b>: a micro web framework for building web applications using Python.\n",
    "* <b>numpy</b>: For numerical computing with support for large, multi-dimensional arrays and matrices.\n",
    "* <b>scikit-learn</b>: Machine learning library for Python with tools for classification, regression, clustering, and dimensionality reduction.\n",
    "* <b>PIL (Python Imaging Library)</b>: Adds support for opening, manipulating, and saving different image file formats.\n",
    "* <b>os</b>: Interact with the operating system, including reading and writing files, managing processes, and setting environment variables\n",
    "* <b>Pickle</b>: Provides a way to serialize and deserialize Python objects, allowing them to be saved to and loaded from files."
   ]
  },
  {
   "cell_type": "code",
   "execution_count": 18,
   "id": "e49c29c7",
   "metadata": {},
   "outputs": [],
   "source": [
    "from flask import Flask, render_template, request\n",
    "import numpy as np\n",
    "from PIL import Image\n",
    "from sklearn.ensemble import RandomForestClassifier\n",
    "import os\n",
    "import pickle"
   ]
  },
  {
   "cell_type": "markdown",
   "id": "5e3eb2b8",
   "metadata": {},
   "source": [
    "### Path to training and test sets"
   ]
  },
  {
   "cell_type": "markdown",
   "id": "2df0e273",
   "metadata": {},
   "source": [
    "<b>Dataset used</b>: [CIFAKE: Real and AI-Generated Synthetic Images](https://www.kaggle.com/datasets/birdy654/cifake-real-and-ai-generated-synthetic-images)"
   ]
  },
  {
   "cell_type": "code",
   "execution_count": 2,
   "id": "864a13fa",
   "metadata": {},
   "outputs": [],
   "source": [
    "train_path = 'C:/Users/aadit/anaconda3/111Test/CIFAKE/train'\n",
    "test_path = 'C:/Users/aadit/anaconda3/111Test/CIFAKE/test'"
   ]
  },
  {
   "cell_type": "markdown",
   "id": "001e4352",
   "metadata": {},
   "source": [
    "### Classes for binary classification"
   ]
  },
  {
   "cell_type": "code",
   "execution_count": 3,
   "id": "38bfc955",
   "metadata": {},
   "outputs": [],
   "source": [
    "classes = ['real', 'fake']"
   ]
  },
  {
   "cell_type": "markdown",
   "id": "dec22a24",
   "metadata": {},
   "source": [
    "### Lists to store the image data and labels"
   ]
  },
  {
   "cell_type": "code",
   "execution_count": 4,
   "id": "3998579f",
   "metadata": {},
   "outputs": [],
   "source": [
    "train_data = []\n",
    "train_labels = []\n",
    "test_data = []\n",
    "test_labels = []\n"
   ]
  },
  {
   "cell_type": "markdown",
   "id": "3da775e0",
   "metadata": {},
   "source": [
    "### Read in the training data"
   ]
  },
  {
   "cell_type": "code",
   "execution_count": 5,
   "id": "5abfe176",
   "metadata": {},
   "outputs": [],
   "source": [
    "for c in classes:\n",
    "    path = os.path.join(train_path, c)\n",
    "    for image_file in os.listdir(path):\n",
    "        image_path = os.path.join(path, image_file)\n",
    "        image = Image.open(image_path).convert('L') # convert to grayscale\n",
    "        image = image.resize((32, 32)) # resize the image to 32x32\n",
    "        image_data = np.asarray(image).flatten() # flatten the image data\n",
    "        train_data.append(image_data)\n",
    "        train_labels.append(classes.index(c))"
   ]
  },
  {
   "cell_type": "markdown",
   "id": "e1815053",
   "metadata": {},
   "source": [
    "### Read in the test data"
   ]
  },
  {
   "cell_type": "code",
   "execution_count": 6,
   "id": "d1f9911b",
   "metadata": {},
   "outputs": [],
   "source": [
    "for c in classes:\n",
    "    path = os.path.join(test_path, c)\n",
    "    for image_file in os.listdir(path):\n",
    "        image_path = os.path.join(path, image_file)\n",
    "        image = Image.open(image_path).convert('L') # convert to grayscale\n",
    "        image = image.resize((32, 32)) # resize the image to 32x32\n",
    "        image_data = np.asarray(image).flatten() # flatten the image data\n",
    "        test_data.append(image_data)\n",
    "        test_labels.append(classes.index(c))"
   ]
  },
  {
   "cell_type": "markdown",
   "id": "4ebbbb05",
   "metadata": {},
   "source": [
    "### Train the model"
   ]
  },
  {
   "cell_type": "code",
   "execution_count": 7,
   "id": "392173cf",
   "metadata": {},
   "outputs": [
    {
     "data": {
      "text/plain": [
       "RandomForestClassifier(random_state=0)"
      ]
     },
     "execution_count": 7,
     "metadata": {},
     "output_type": "execute_result"
    }
   ],
   "source": [
    "rf = RandomForestClassifier(n_estimators=100, random_state=0)\n",
    "rf.fit(train_data, train_labels)\n"
   ]
  },
  {
   "cell_type": "markdown",
   "id": "2346fe15",
   "metadata": {},
   "source": [
    "### Accuracy"
   ]
  },
  {
   "cell_type": "code",
   "execution_count": 8,
   "id": "b4bad64c",
   "metadata": {},
   "outputs": [
    {
     "name": "stdout",
     "output_type": "stream",
     "text": [
      "Accuracy: 81.22%\n"
     ]
    }
   ],
   "source": [
    "accuracy = rf.score(test_data, test_labels)\n",
    "print(\"Accuracy: {:.2f}%\".format(accuracy*100))"
   ]
  },
  {
   "cell_type": "markdown",
   "id": "8fb4ec1b",
   "metadata": {},
   "source": [
    "### Create pickle file"
   ]
  },
  {
   "cell_type": "code",
   "execution_count": 19,
   "id": "518f3272",
   "metadata": {},
   "outputs": [],
   "source": [
    "with open('random_forest_classifier.pkl', 'wb') as f:\n",
    "    pickle.dump(rf, f)\n"
   ]
  },
  {
   "cell_type": "code",
   "execution_count": null,
   "id": "9d11aed2",
   "metadata": {},
   "outputs": [],
   "source": []
  },
  {
   "cell_type": "code",
   "execution_count": null,
   "id": "556416ec",
   "metadata": {},
   "outputs": [],
   "source": []
  }
 ],
 "metadata": {
  "kernelspec": {
   "display_name": "Python 3 (ipykernel)",
   "language": "python",
   "name": "python3"
  },
  "language_info": {
   "codemirror_mode": {
    "name": "ipython",
    "version": 3
   },
   "file_extension": ".py",
   "mimetype": "text/x-python",
   "name": "python",
   "nbconvert_exporter": "python",
   "pygments_lexer": "ipython3",
   "version": "3.9.12"
  }
 },
 "nbformat": 4,
 "nbformat_minor": 5
}
